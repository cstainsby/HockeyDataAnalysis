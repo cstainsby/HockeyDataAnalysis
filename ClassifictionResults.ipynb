{
 "cells": [
  {
   "cell_type": "code",
   "execution_count": 4,
   "metadata": {},
   "outputs": [],
   "source": [
    "import importlib\n",
    "import numpy as np\n",
    "\n",
    "import mysklearn.myutils\n",
    "importlib.reload(mysklearn.myutils)\n",
    "import mysklearn.myutils as myutils\n",
    "\n",
    "import mysklearn.mypytable\n",
    "importlib.reload(mysklearn.mypytable)\n",
    "from mysklearn.mypytable import MyPyTable\n",
    "\n",
    "import mysklearn.myruleminer\n",
    "importlib.reload(mysklearn.myruleminer)\n",
    "from mysklearn.myruleminer import MyAssociationRuleMiner\n",
    "\n",
    "import mysklearn.myclassifiers\n",
    "importlib.reload(mysklearn.myclassifiers)\n",
    "from mysklearn.myclassifiers import MyKNeighborsClassifier, MyDummyClassifier, MyNaiveBayesClassifier, MyDecisionTreeClassifier, MyRandomForestClassifier\n",
    "\n",
    "import mysklearn.myevaluation\n",
    "importlib.reload(mysklearn.myevaluation)\n",
    "import mysklearn.myevaluation as myevaluation\n",
    "\n",
    "import notebookutils\n",
    "importlib.reload(notebookutils)\n",
    "import notebookutils as nbutl"
   ]
  },
  {
   "cell_type": "markdown",
   "metadata": {},
   "source": [
    "# Classification Results"
   ]
  },
  {
   "cell_type": "code",
   "execution_count": 5,
   "metadata": {},
   "outputs": [
    {
     "ename": "IndexError",
     "evalue": "list index out of range",
     "output_type": "error",
     "traceback": [
      "\u001b[0;31m---------------------------------------------------------------------------\u001b[0m",
      "\u001b[0;31mIndexError\u001b[0m                                Traceback (most recent call last)",
      "\u001b[0;32m/tmp/ipykernel_9355/2873730166.py\u001b[0m in \u001b[0;36m<module>\u001b[0;34m\u001b[0m\n\u001b[1;32m     23\u001b[0m \u001b[0;34m\u001b[0m\u001b[0m\n\u001b[1;32m     24\u001b[0m \u001b[0mkey\u001b[0m \u001b[0;34m=\u001b[0m \u001b[0mleague_standing_pytable\u001b[0m\u001b[0;34m.\u001b[0m\u001b[0mget_key\u001b[0m\u001b[0;34m(\u001b[0m\u001b[0mleague_standing_pytable\u001b[0m\u001b[0;34m.\u001b[0m\u001b[0mcolumn_names\u001b[0m\u001b[0;34m,\u001b[0m \u001b[0;34m[\u001b[0m\u001b[0;34m'GP'\u001b[0m\u001b[0;34m,\u001b[0m \u001b[0;34m'W'\u001b[0m\u001b[0;34m,\u001b[0m \u001b[0;34m'L'\u001b[0m\u001b[0;34m,\u001b[0m\u001b[0;34m'PTS'\u001b[0m\u001b[0;34m,\u001b[0m\u001b[0;34m'PTS%'\u001b[0m\u001b[0;34m,\u001b[0m \u001b[0;34m'GF'\u001b[0m\u001b[0;34m,\u001b[0m \u001b[0;34m'GA'\u001b[0m\u001b[0;34m,\u001b[0m \u001b[0;34m'SRS'\u001b[0m\u001b[0;34m,\u001b[0m \u001b[0;34m'SOS'\u001b[0m\u001b[0;34m]\u001b[0m\u001b[0;34m)\u001b[0m\u001b[0;34m\u001b[0m\u001b[0;34m\u001b[0m\u001b[0m\n\u001b[0;32m---> 25\u001b[0;31m \u001b[0mnbutl\u001b[0m\u001b[0;34m.\u001b[0m\u001b[0mdiscretize_gf\u001b[0m\u001b[0;34m(\u001b[0m\u001b[0mleague_standing_pytable\u001b[0m\u001b[0;34m.\u001b[0m\u001b[0mdata\u001b[0m\u001b[0;34m,\u001b[0m \u001b[0mkey\u001b[0m\u001b[0;34m[\u001b[0m\u001b[0;36m0\u001b[0m\u001b[0;34m]\u001b[0m\u001b[0;34m)\u001b[0m\u001b[0;34m\u001b[0m\u001b[0;34m\u001b[0m\u001b[0m\n\u001b[0m\u001b[1;32m     26\u001b[0m \u001b[0mnbutl\u001b[0m\u001b[0;34m.\u001b[0m\u001b[0mdiscretize_gf\u001b[0m\u001b[0;34m(\u001b[0m\u001b[0mleague_standing_pytable\u001b[0m\u001b[0;34m.\u001b[0m\u001b[0mdata\u001b[0m\u001b[0;34m,\u001b[0m \u001b[0mkey\u001b[0m\u001b[0;34m[\u001b[0m\u001b[0;36m1\u001b[0m\u001b[0;34m]\u001b[0m\u001b[0;34m)\u001b[0m\u001b[0;34m\u001b[0m\u001b[0;34m\u001b[0m\u001b[0m\n\u001b[1;32m     27\u001b[0m \u001b[0mnbutl\u001b[0m\u001b[0;34m.\u001b[0m\u001b[0mdiscretize_gf\u001b[0m\u001b[0;34m(\u001b[0m\u001b[0mleague_standing_pytable\u001b[0m\u001b[0;34m.\u001b[0m\u001b[0mdata\u001b[0m\u001b[0;34m,\u001b[0m \u001b[0mkey\u001b[0m\u001b[0;34m[\u001b[0m\u001b[0;36m2\u001b[0m\u001b[0;34m]\u001b[0m\u001b[0;34m)\u001b[0m\u001b[0;34m\u001b[0m\u001b[0;34m\u001b[0m\u001b[0m\n",
      "\u001b[0;31mIndexError\u001b[0m: list index out of range"
     ]
    }
   ],
   "source": [
    "league_standing_pytable = MyPyTable()\n",
    "league_standing_pytable.load_from_file(\"lib/nhl_leaguestandings.csv\")\n",
    "\n",
    "league_standing_pytable.remove_rows_with_missing_values()\n",
    "\n",
    "league_standing_pytable.drop_col(\"ROW\")\n",
    "league_standing_pytable.drop_col(\"RPt%\")\n",
    "league_standing_pytable.drop_col(\"OL\")\n",
    "league_standing_pytable.drop_col(\"T\")\n",
    "league_standing_pytable.drop_col(\"SEASON_TM\")\n",
    "league_standing_pytable.drop_col(\"SEASON\")\n",
    "league_standing_pytable.drop_col(\"CONFERENCE\")\n",
    "league_standing_pytable.drop_col(\"DIVISION\")\n",
    "league_standing_pytable.drop_col(\"TEAM\")\n",
    "league_standing_pytable.drop_col(\"TM\")\n",
    "league_standing_pytable.drop_col(\"PLAYOFFS\")\n",
    "\n",
    "\n",
    "\n",
    "#nbutl.discretize_ptspercent(league_standing_pytable.data, )\n",
    "\n",
    "#'GP', 'W', 'L','PTS','PTS%', 'GF', 'SRS'\n",
    "\n",
    "key = league_standing_pytable.get_key(league_standing_pytable.column_names, ['GP', 'W', 'L','PTS','PTS%', 'GF', 'GA', 'SRS', 'SOS'])\n",
    "nbutl.discretize_gf(league_standing_pytable.data, key[0])\n",
    "nbutl.discretize_gf(league_standing_pytable.data, key[1])\n",
    "nbutl.discretize_gf(league_standing_pytable.data, key[2])\n",
    "nbutl.discretize_gf(league_standing_pytable.data, key[3])\n",
    "nbutl.discretize_ptspercent(league_standing_pytable.data, key[4])\n",
    "nbutl.discretize_srs(league_standing_pytable.data, key[7])\n",
    "nbutl.discretize_sos(league_standing_pytable.data, key[8])\n",
    "nbutl.discretize_gf(league_standing_pytable.data, key[5])\n",
    "nbutl.discretize_gf(league_standing_pytable.data, key[6])\n",
    "\n",
    "\n",
    "y_col_name = \"FINISH\"\n",
    "\n",
    "y = league_standing_pytable.get_column(y_col_name)\n",
    "league_standing_pytable.drop_col(y_col_name)\n",
    "X = [league_standing_pytable.data[i] for i in range(len(league_standing_pytable.data))]\n",
    "\n",
    "\n",
    "X_train_folds, X_test_folds  = myevaluation.stratified_kfold_cross_validation(X, y, 10)"
   ]
  },
  {
   "cell_type": "code",
   "execution_count": null,
   "metadata": {},
   "outputs": [
    {
     "ename": "",
     "evalue": "",
     "output_type": "error",
     "traceback": [
      "\u001b[1;31mRunning cells with 'Python 3.7.8 64-bit' requires ipykernel package.\n",
      "Run the following command to install 'ipykernel' into the Python environment. \n",
      "Command: '\"C:/Program Files (x86)/Microsoft Visual Studio/Shared/Python37_64/python.exe\" -m pip install ipykernel -U --user --force-reinstall'"
     ]
    }
   ],
   "source": [
    "from tabulate import tabulate\n",
    "\n",
    "# descision tree\n",
    "\n",
    "#['GP','W','L','PTS','PTS%','GF','GA','SOS']\n",
    "\n",
    "print(\"===========================================\")\n",
    "print(\"DESCISION TREE\")\n",
    "print(\"===========================================\")\n",
    "\n",
    "true_tr_strat, pred_tr_strat = notebookutils.kfoldstrat(league_standing_pytable, X, y, \"tree\",['GP','W','L','PTS','PTS%','GF','GA','SRS','SOS'])\n",
    "\n",
    "tr_accuracy_strat = myevaluation.accuracy_score(true_tr_strat, pred_tr_strat)\n",
    "\n",
    "print(\"Descision Tree Classifier\")\n",
    "print(\"     Accuracy = \" + str(round(tr_accuracy_strat,3)) + \", Error Rate = \" + str(round(1-tr_accuracy_strat,3)))\n",
    "print(\"     Precision = \" + str(round(myevaluation.binary_precision_score(true_tr_strat,pred_tr_strat),3)))\n",
    "print(\"     Recall = \" + str(round(myevaluation.binary_recall_score(true_tr_strat,pred_tr_strat),3)))\n",
    "print(\"     F1 Score = \" + str(round(myevaluation.binary_f1_score(true_tr_strat,pred_tr_strat),3)))\n",
    "print(\"     Confusion Matrix\\n\" + tabulate(notebookutils.matrix(true_tr_strat, pred_tr_strat), headers=[\"Outcome\",\"0\",\"1\", \"2\", \"3\", \"4\", \"5\", \"Total\",\n"
   ]
  },
  {
   "cell_type": "code",
   "execution_count": null,
   "metadata": {},
   "outputs": [
    {
     "ename": "",
     "evalue": "",
     "output_type": "error",
     "traceback": [
      "\u001b[1;31mRunning cells with 'Python 3.7.8 64-bit' requires ipykernel package.\n",
      "Run the following command to install 'ipykernel' into the Python environment. \n",
      "Command: '\"C:/Program Files (x86)/Microsoft Visual Studio/Shared/Python37_64/python.exe\" -m pip install ipykernel -U --user --force-reinstall'"
     ]
    }
   ],
   "source": [
    "print(\"===========================================\")\n",
    "print(\"NAIVE BAYES\")\n",
    "print(\"===========================================\")\n",
    "\n",
    "\n",
    "true_nb_strat, pred_nb_strat = notebookutils.kfoldstrat(league_standing_pytable, X, y, \"naive\",['GP','W','L','PTS','PTS%','GF','GA','SRS','SOS'])\n",
    "\n",
    "\n",
    "nb_accuracy_strat = myevaluation.accuracy_score(true_nb_strat, pred_nb_strat)\n",
    "\n",
    "\n",
    "print(\"Naive Bayes Classifier\")\n",
    "print(\"     Accuracy = \" + str(round(nb_accuracy_strat,3)) + \", Error Rate = \" + str(round(1-nb_accuracy_strat,3)))\n",
    "print(\"     Precision = \" + str(round(myevaluation.binary_precision_score(true_nb_strat,pred_nb_strat),3)))\n",
    "print(\"     Recall = \" + str(round(myevaluation.binary_recall_score(true_nb_strat,pred_nb_strat),3)))\n",
    "print(\"     F1 Score = \" + str(round(myevaluation.binary_f1_score(true_nb_strat,pred_nb_strat),3)))\n",
    "print(\"     Confusion Matrix\\n\" + tabulate(notebookutils.matrix(true_nb_strat, pred_nb_strat), headers=[\"Outcome\",\"0\",\"1\", \"2\", \"3\", \"4\", \"5\", \"Total\", \"Recognition(%)\"])"
   ]
  },
  {
   "cell_type": "code",
   "execution_count": null,
   "metadata": {},
   "outputs": [
    {
     "ename": "",
     "evalue": "",
     "output_type": "error",
     "traceback": [
      "\u001b[1;31mRunning cells with 'Python 3.7.8 64-bit' requires ipykernel package.\n",
      "Run the following command to install 'ipykernel' into the Python environment. \n",
      "Command: '\"C:/Program Files (x86)/Microsoft Visual Studio/Shared/Python37_64/python.exe\" -m pip install ipykernel -U --user --force-reinstall'"
     ]
    }
   ],
   "source": [
    "print(\"===========================================\")\n",
    "print(\"kNN CLASSIFIER\")\n",
    "print(\"===========================================\")\n",
    "\n",
    "\n",
    "true_knn_strat, pred_knn_strat = notebookutils.kfoldstrat(league_standing_pytable, X, y, \"knn\",['GP','W','L','PTS','PTS%','GF','GA','SRS','SOS'])\n",
    "\n",
    "knn_accuracy_strat = myevaluation.accuracy_score(true_knn_strat, pred_knn_strat)\n",
    "\n",
    "\n",
    "print(\"k Nearest Nrighbors Classifier\")\n",
    "print(\"     Accuracy = \" + str(round(knn_accuracy_strat,3)) + \", Error Rate = \" + str(round(1-knn_accuracy_strat,3)))\n",
    "print(\"     Precision = \" + str(round(myevaluation.binary_precision_score(true_knn_strat,pred_knn_strat),3)))\n",
    "print(\"     Recall = \" + str(round(myevaluation.binary_recall_score(true_knn_strat,pred_knn_strat),3)))\n",
    "print(\"     F1 Score = \" + str(round(myevaluation.binary_f1_score(true_knn_strat,pred_knn_strat),3)))\n",
    "print(\"     Confusion Matrix\\n\" + tabulate(notebookutils.matrix(true_knn_strat, pred_knn_strat), headers=[\"Outcome\",\"0\",\"1\", \"2\", \"3\", \"4\", \"5\", \"Total\", \"Recognition(%)\"]))\n",
    "print(\"\")"
   ]
  },
  {
   "cell_type": "code",
   "execution_count": null,
   "metadata": {},
   "outputs": [
    {
     "ename": "",
     "evalue": "",
     "output_type": "error",
     "traceback": [
      "\u001b[1;31mRunning cells with 'Python 3.7.8 64-bit' requires ipykernel package.\n",
      "Run the following command to install 'ipykernel' into the Python environment. \n",
      "Command: '\"C:/Program Files (x86)/Microsoft Visual Studio/Shared/Python37_64/python.exe\" -m pip install ipykernel -U --user --force-reinstall'"
     ]
    }
   ],
   "source": [
    "print(\"===========================================\")\n",
    "print(\"Rule Miner\")\n",
    "print(\"===========================================\")\n",
    "\n",
    "rule_miner = MyAssociationRuleMiner(minsup=0.05, minconf=.2)\n",
    "rule_miner.fit(league_standing_pytable.data)\n",
    "rule_miner.print_association_rules()\n",
    "\n"
   ]
  },
  {
   "cell_type": "code",
   "execution_count": null,
   "metadata": {},
   "outputs": [
    {
     "ename": "",
     "evalue": "",
     "output_type": "error",
     "traceback": [
      "\u001b[1;31mRunning cells with 'Python 3.7.8 64-bit' requires ipykernel package.\n",
      "Run the following command to install 'ipykernel' into the Python environment. \n",
      "Command: '\"C:/Program Files (x86)/Microsoft Visual Studio/Shared/Python37_64/python.exe\" -m pip install ipykernel -U --user --force-reinstall'"
     ]
    }
   ],
   "source": [
    "random_forest = MyRandomForestClassifier()\n",
    "\n",
    "\n",
    "X_train, X_test, y_train, y_test = myevaluation.train_test_split(X, y)\n",
    "random_forest.fit([X_train], [X_test], N=10, M=5, F=2)\n",
    "\n",
    "predictions = random_forest.predict(y_train)\n",
    "\n",
    "print(predictions)\n",
    "\n"
   ]
  }
 ],
 "metadata": {
  "interpreter": {
   "hash": "d4d1e4263499bec80672ea0156c357c1ee493ec2b1c70f0acce89fc37c4a6abe"
  },
  "kernelspec": {
   "display_name": "Python 3.9.7 ('base')",
   "language": "python",
   "name": "python3"
  },
  "language_info": {
   "codemirror_mode": {
    "name": "ipython",
    "version": 3
   },
   "file_extension": ".py",
   "mimetype": "text/x-python",
   "name": "python",
   "nbconvert_exporter": "python",
   "pygments_lexer": "ipython3",
   "version": "3.9.7"
  },
  "orig_nbformat": 4
 },
 "nbformat": 4,
 "nbformat_minor": 2
}
