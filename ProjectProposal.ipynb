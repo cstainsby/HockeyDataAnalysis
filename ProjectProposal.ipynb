{
 "cells": [
  {
   "cell_type": "markdown",
   "metadata": {},
   "source": [
    "# Hockey Dataset Project\n",
    "\n",
    "## Project Members\n",
    "- Cole Stainsby\n",
    "- Zach Ambroseo\n",
    "- Drew Bogdan\n",
    "\n",
    "## Dataset Description\n",
    "[link](https://www.kaggle.com/datasets/open-source-sports/professional-hockey-database?select=CombinedShutouts.csv) to dataset\n",
    "### Format of Data\n",
    "\n",
    "### Contents Of Data\n",
    "\n",
    "\n",
    "\n",
    "## Implementation and Technical Merit\n",
    "1. Anticipated challenges in pre-processing and/or classification\n",
    "2. If the number of attributes is large, how will you explore feature selection techniques to pare down the attributes?\n",
    "\n",
    "## Potentail Impact Of Results\n",
    "1. Why are the results useful?\n",
    "2. Who are the stakeholders?"
   ]
  }
 ],
 "metadata": {
  "language_info": {
   "name": "python"
  },
  "orig_nbformat": 4
 },
 "nbformat": 4,
 "nbformat_minor": 2
}
