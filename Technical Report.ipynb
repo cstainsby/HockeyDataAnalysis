{
 "cells": [
  {
   "cell_type": "markdown",
   "metadata": {},
   "source": [
    "# Hockey Technical Report\n",
    "\n",
    "## Team members\n",
    "- Cole Stainsby\n",
    "- Drew Bogdan\n",
    "- Zach Ambroseo"
   ]
  },
  {
   "cell_type": "markdown",
   "metadata": {},
   "source": [
    "## Introduction\n",
    " The dataset we used for this project was an NHL league standings dataset, found [here](http://inalitic.com/datasets/nhl_leaguestandings_data.html), that contains the standings from every season since 1940. We added an extra column to correspond to positions within the playoffs. The dataset had a wealth of information and for our project we wanted to determine how well a team placed this within playoffs using a kNN classifier, a decision tree and a Random Forest. Out of these classifiers, the decision tree performed the best with our dataset and code. \n"
   ]
  },
  {
   "cell_type": "code",
   "execution_count": 17,
   "metadata": {},
   "outputs": [],
   "source": [
    "import importlib\n",
    "import matplotlib.pyplot as plt\n",
    "import plot_utils as plt_utils\n",
    "import numpy as np\n",
    "\n",
    "import mysklearn.myutils\n",
    "importlib.reload(mysklearn.myutils)\n",
    "import mysklearn.myutils as myutils\n",
    "\n",
    "import mysklearn.mypytable\n",
    "importlib.reload(mysklearn.mypytable)\n",
    "from mysklearn.mypytable import MyPyTable \n",
    "\n",
    "import mysklearn.myclassifiers\n",
    "importlib.reload(mysklearn.myclassifiers)\n",
    "from mysklearn.myclassifiers import MyKNeighborsClassifier, MyDummyClassifier, MyNaiveBayesClassifier, MyDecisionTreeClassifier\n",
    "\n",
    "import mysklearn.myevaluation\n",
    "importlib.reload(mysklearn.myevaluation)\n",
    "import mysklearn.myevaluation as myevaluation"
   ]
  },
  {
   "cell_type": "code",
   "execution_count": 18,
   "metadata": {},
   "outputs": [
    {
     "data": {
      "text/plain": [
       "<mysklearn.mypytable.MyPyTable at 0x7f4e691da8b0>"
      ]
     },
     "execution_count": 18,
     "metadata": {},
     "output_type": "execute_result"
    }
   ],
   "source": [
    "league_standing_pytable = MyPyTable()\n",
    "league_standing_pytable.load_from_file(\"lib/nhl_leaguestandings.csv\")"
   ]
  },
  {
   "cell_type": "markdown",
   "metadata": {},
   "source": [
    "## Data Analysis"
   ]
  },
  {
   "cell_type": "code",
   "execution_count": 19,
   "metadata": {},
   "outputs": [
    {
     "name": "stdout",
     "output_type": "stream",
     "text": [
      "Total Instances:  1350\n",
      "Avalible Classifications and Total Number Of Class Encountered\n",
      "  0.0 : 508\n",
      "  1.0 : 324\n",
      "  2.0 : 206\n",
      "  3.0 : 156\n",
      "  4.0 : 78\n",
      "  5.0 : 78\n",
      "Most recent year in data:  2018\n",
      "Earliest year accounted for in data:  1940\n",
      "Number of teams in recent year:  31\n",
      "Number of teams in earliest year:  7\n"
     ]
    }
   ],
   "source": [
    "class_col = league_standing_pytable.get_column(\"PLAYOFFS\")\n",
    "print(\"Total Instances: \", len(class_col))\n",
    "\n",
    "group_names, group_instances = myutils.group_by(league_standing_pytable.data, league_standing_pytable.column_names, \"FINISH\")\n",
    "\n",
    "print(\"Avalible Classifications and Total Number Of Class Encountered\")\n",
    "for i in range(len(group_names)):\n",
    "    print(\"  \" + str(group_names[i]) + \" : \" + str(len(group_instances[i])))\n",
    "\n",
    "year_col = league_standing_pytable.get_column(\"SEASON\")\n",
    "print(\"Most recent year in data: \", int(max(year_col)))\n",
    "print(\"Earliest year accounted for in data: \", int(min(year_col)))\n",
    "\n",
    "print(\"Number of teams in recent year: \", year_col.count(max(year_col)))\n",
    "print(\"Number of teams in earliest year: \", year_col.count(min(year_col)))"
   ]
  },
  {
   "cell_type": "markdown",
   "metadata": {},
   "source": [
    "### Attributes\n",
    "\n",
    "Attribute(type):description\n",
    "\n",
    "- Season(int): The current seasonal year that the results of the instance took place in.\n",
    "- Conference(str): The conference that the instance took place at.\n",
    "- Division(str): The division that the instance belongs to.\n",
    "- Team(str): The name of the team the instance is recorded on.\n",
    "- TM(str): The abbreviated name of the team\n",
    "- Playoffs(bool): An attribute that reveals if the team of the instance was at playoffs this season, uses Y for T and N for F.\n",
    "- GP(int): Games played by that team in a single season\n",
    "- W(int): Games won by a team in the given season\n",
    "- L(int):Games lost by a team in the given season\n",
    "- T(int): Games tied by a team in a given season\n",
    "- OL(int): Games lost in shootout or overtime by a team in a given season\n",
    "- PTS(int): Points scored by a team in a given season based off the win loss record.\n",
    "- PTS%(float): Total points achieve by a team in a given season divided by total possible points\n",
    "- GF(int): Number of goals scored in favor of a team during a given season\n",
    "- Ga(int): Number of goals scored against a team during a given season\n",
    "- SRS(int): Goals scored by a player during a power play\n",
    "- SOS(int): Goals scored by player while a team is shorthanded, down a player due to penalty.\n",
    "- RPT%(int): Game winning goals scored by a player in a given season\n",
    "- ROW(int): Assists occurring while team is even strength\n",
    "- FINISH(int): An integer that our group created from 0-5 that corresponds to a team’s final position. 0 - missed, 1 - lost round 1, 2 -  lost divisional finals, 3 - lost conference finals, 4 - lost the cup finals, 5 - won finals\n",
    "\n",
    "Row Label: SEASON_TM\n"
   ]
  },
  {
   "cell_type": "markdown",
   "metadata": {},
   "source": [
    "### Summary Statistics"
   ]
  },
  {
   "cell_type": "code",
   "execution_count": 20,
   "metadata": {},
   "outputs": [
    {
     "name": "stdout",
     "output_type": "stream",
     "text": [
      "attribute      min    max    mid       avg    median\n",
      "-----------  -----  -----  -----  --------  --------\n",
      "GP               5      8    6.5   7.66            8\n",
      "W                1      6    3.5   3.48296         4\n",
      "L                0      7    3.5   3.17037         3\n",
      "PTS              2     13    7.5   8.05778         8\n",
      "PTS%             2      9    5.5   5.71704         6\n",
      "GF               9     45   27    23.9385         24\n",
      "GA               8     45   26.5  23.943          24\n",
      "SRS              1     12    6.5   6.51185         7\n",
      "SOS              6      7    6.5   6.54            7\n",
      "FINISH           0      5    2.5   1.41185         1\n"
     ]
    }
   ],
   "source": [
    "import importlib\n",
    "import matplotlib.pyplot as plt\n",
    "import plot_utils as plt_utils\n",
    "import numpy as np\n",
    "\n",
    "import mysklearn.myutils\n",
    "importlib.reload(mysklearn.myutils)\n",
    "import mysklearn.myutils as myutils\n",
    "\n",
    "import mysklearn.mypytable\n",
    "importlib.reload(mysklearn.mypytable)\n",
    "from mysklearn.mypytable import MyPyTable\n",
    "\n",
    "import notebookutils\n",
    "importlib.reload(notebookutils)\n",
    "import notebookutils as nbutl\n",
    "\n",
    "import copy \n",
    "\n",
    "league_standing_pytable = MyPyTable()\n",
    "sum_table = MyPyTable()\n",
    "league_standing_pytable.load_from_file(\"lib/nhl_leaguestandings.csv\")\n",
    "\n",
    "importlib.reload(mysklearn)\n",
    "\n",
    "# ------------------------------------------------\n",
    "#   Clean Data\n",
    "#     Deepcopy data into a new pytable\n",
    "# ------------------------------------------------\n",
    "summary_pytable = copy.deepcopy(league_standing_pytable)\n",
    "summary_pytable.remove_rows_with_missing_values()\n",
    "\n",
    "summary_pytable.drop_col(\"ROW\")\n",
    "summary_pytable.drop_col(\"RPt%\")\n",
    "summary_pytable.drop_col(\"OL\")\n",
    "summary_pytable.drop_col(\"T\")\n",
    "summary_pytable.drop_col(\"SEASON_TM\")\n",
    "summary_pytable.drop_col(\"SEASON\")\n",
    "summary_pytable.drop_col(\"CONFERENCE\")\n",
    "summary_pytable.drop_col(\"DIVISION\")\n",
    "summary_pytable.drop_col(\"TEAM\")\n",
    "summary_pytable.drop_col(\"TM\")\n",
    "summary_pytable.drop_col(\"PLAYOFFS\")\n",
    "\n",
    "key = summary_pytable.get_key(summary_pytable.column_names, ['GP', 'W', 'L','PTS','PTS%', 'GF', 'GA', 'SRS', 'SOS'])\n",
    "nbutl.discretize_gf(summary_pytable.data, key[0])\n",
    "nbutl.discretize_gf(summary_pytable.data, key[1])\n",
    "nbutl.discretize_gf(summary_pytable.data, key[2])\n",
    "nbutl.discretize_gf(summary_pytable.data, key[3])\n",
    "nbutl.discretize_ptspercent(summary_pytable.data, key[4])\n",
    "nbutl.discretize_srs(summary_pytable.data, key[7])\n",
    "nbutl.discretize_sos(summary_pytable.data, key[8])\n",
    "nbutl.discretize_gf(summary_pytable.data, key[5])\n",
    "nbutl.discretize_gf(summary_pytable.data, key[6])\n",
    "\n",
    "column_names=summary_pytable.column_names\n",
    "table=summary_pytable.data\n",
    "\n",
    "#print(table)\n",
    "# convert string types to numeric \n",
    "for i in range(len(table)):\n",
    "  for j in range(len(table[i])):\n",
    "    table[i][j] = int(table[i][j])\n",
    "\n",
    "sum_table=summary_pytable.compute_summary_statistics(column_names)\n",
    "sum_table.pretty_print()\n"
   ]
  },
  {
   "cell_type": "markdown",
   "metadata": {},
   "source": [
    "### EDA 1 - Wins vs Losses with a line for play off cutoffs"
   ]
  },
  {
   "cell_type": "code",
   "execution_count": 21,
   "metadata": {},
   "outputs": [
    {
     "data": {
      "image/png": "[encoded data removed]",
      "text/plain": [
       "<Figure size 720x360 with 2 Axes>"
      ]
     },
     "metadata": {
      "needs_background": "light"
     },
     "output_type": "display_data"
    }
   ],
   "source": [
    "importlib.reload(mysklearn)\n",
    "\n",
    "dataset_titles = league_standing_pytable.column_names\n",
    "dataset = league_standing_pytable.data\n",
    "x_col_name = \"W\"\n",
    "y_col_name = \"L\"\n",
    "groupby_col = \"PLAYOFFS\"\n",
    "\n",
    "wins_col = league_standing_pytable.get_column(x_col_name)\n",
    "losses_col = league_standing_pytable.get_column(y_col_name)\n",
    "class_col = league_standing_pytable.get_column(groupby_col)\n",
    "\n",
    "unique_class_vals, parallel_numbered_vals = myutils.unique_vals(class_col)\n",
    "\n",
    "x_index = dataset_titles.index(x_col_name)\n",
    "y_index = dataset_titles.index(y_col_name)\n",
    "\n",
    "cleaned_x, cleaned_y = myutils.find_all_non_NA_matches(wins_col, losses_col)\n",
    "m, b = myutils.compute_slope_intercept(cleaned_x, cleaned_y)\n",
    "\n",
    "corre_coeff = myutils.calculate_correlation_coefficient(cleaned_x, cleaned_y)\n",
    "covarience = myutils.calculate_covarience(cleaned_x, cleaned_y)\n",
    "\n",
    "plt.figure(figsize=(10,5))\n",
    "plt.title(\"Wins\" + \" vs \" + \"Losses Contrasted with Playoff Eligibility\")\n",
    "plt.ylabel(\"Losses\")\n",
    "plt.xlabel(\"Wins\")\n",
    "plt.scatter(cleaned_x, cleaned_y, c = parallel_numbered_vals, marker=\"o\", cmap=\"bwr\")\n",
    "#plt.plot([min(cleaned_x), max(cleaned_x)], [m * min(cleaned_x) + b, m * max(cleaned_x) + b], c=\"g\")\n",
    "cbar = plt.colorbar()\n",
    "cbar.set_ticks([i for i in range(len(unique_class_vals))])\n",
    "cbar.set_ticklabels(unique_class_vals)\n",
    "plt.grid(True)\n",
    "plt.show()\n"
   ]
  },
  {
   "cell_type": "markdown",
   "metadata": {},
   "source": [
    "As the title of this plot suggests it focuses on the comparison between wins and losses and playoffs eligibility. In our EDA we were searching for correlations and we started with one of the simpler ones to check. However, having a high amount of wins does not always equate to a spot in the playoffs as proven by some points on the plot, but the chances do increase dramatically  with wins.\n"
   ]
  },
  {
   "cell_type": "markdown",
   "metadata": {},
   "source": [
    "### EDA 2 -Points scored by a given team in the seasons\n",
    "Two charts which cover the distribution of points of a given group\n",
    "1. Teams who were in the playoffs\n",
    "1. Teams who weren't in the playoffs"
   ]
  },
  {
   "cell_type": "code",
   "execution_count": 22,
   "metadata": {},
   "outputs": [
    {
     "ename": "ValueError",
     "evalue": "'PLAYOFFS' is not in list",
     "output_type": "error",
     "traceback": [
      "\u001b[0;31m---------------------------------------------------------------------------\u001b[0m",
      "\u001b[0;31mValueError\u001b[0m                                Traceback (most recent call last)",
      "\u001b[0;32m/tmp/ipykernel_11470/661463152.py\u001b[0m in \u001b[0;36m<module>\u001b[0;34m\u001b[0m\n\u001b[1;32m      6\u001b[0m \u001b[0mgroupby_col\u001b[0m \u001b[0;34m=\u001b[0m \u001b[0;34m\"PLAYOFFS\"\u001b[0m\u001b[0;34m\u001b[0m\u001b[0;34m\u001b[0m\u001b[0m\n\u001b[1;32m      7\u001b[0m \u001b[0;34m\u001b[0m\u001b[0m\n\u001b[0;32m----> 8\u001b[0;31m \u001b[0mgroup_names\u001b[0m\u001b[0;34m,\u001b[0m \u001b[0mgroup_subtables\u001b[0m \u001b[0;34m=\u001b[0m \u001b[0mmyutils\u001b[0m\u001b[0;34m.\u001b[0m\u001b[0mgroup_by\u001b[0m\u001b[0;34m(\u001b[0m\u001b[0mdataset\u001b[0m\u001b[0;34m,\u001b[0m \u001b[0mdataset_titles\u001b[0m\u001b[0;34m,\u001b[0m \u001b[0mgroupby_col\u001b[0m\u001b[0;34m)\u001b[0m\u001b[0;34m\u001b[0m\u001b[0;34m\u001b[0m\u001b[0m\n\u001b[0m\u001b[1;32m      9\u001b[0m \u001b[0mno_pytable\u001b[0m \u001b[0;34m=\u001b[0m \u001b[0mMyPyTable\u001b[0m\u001b[0;34m(\u001b[0m\u001b[0mdataset_titles\u001b[0m\u001b[0;34m,\u001b[0m \u001b[0mgroup_subtables\u001b[0m\u001b[0;34m[\u001b[0m\u001b[0;36m0\u001b[0m\u001b[0;34m]\u001b[0m\u001b[0;34m)\u001b[0m\u001b[0;34m\u001b[0m\u001b[0;34m\u001b[0m\u001b[0m\n\u001b[1;32m     10\u001b[0m \u001b[0myes_pytable\u001b[0m \u001b[0;34m=\u001b[0m \u001b[0mMyPyTable\u001b[0m\u001b[0;34m(\u001b[0m\u001b[0mdataset_titles\u001b[0m\u001b[0;34m,\u001b[0m \u001b[0mgroup_subtables\u001b[0m\u001b[0;34m[\u001b[0m\u001b[0;36m1\u001b[0m\u001b[0;34m]\u001b[0m\u001b[0;34m)\u001b[0m\u001b[0;34m\u001b[0m\u001b[0;34m\u001b[0m\u001b[0m\n",
      "\u001b[0;32m/home/HockeyDataProject/mysklearn/myutils.py\u001b[0m in \u001b[0;36mgroup_by\u001b[0;34m(table, header, groupby_col_name)\u001b[0m\n\u001b[1;32m    331\u001b[0m \u001b[0;32mdef\u001b[0m \u001b[0mgroup_by\u001b[0m\u001b[0;34m(\u001b[0m\u001b[0mtable\u001b[0m\u001b[0;34m,\u001b[0m \u001b[0mheader\u001b[0m\u001b[0;34m,\u001b[0m \u001b[0mgroupby_col_name\u001b[0m\u001b[0;34m)\u001b[0m\u001b[0;34m:\u001b[0m\u001b[0;34m\u001b[0m\u001b[0;34m\u001b[0m\u001b[0m\n\u001b[1;32m    332\u001b[0m     \u001b[0;34m\"\"\"group_by function from class\"\"\"\u001b[0m\u001b[0;34m\u001b[0m\u001b[0;34m\u001b[0m\u001b[0m\n\u001b[0;32m--> 333\u001b[0;31m     \u001b[0mgroupby_col_index\u001b[0m \u001b[0;34m=\u001b[0m \u001b[0mheader\u001b[0m\u001b[0;34m.\u001b[0m\u001b[0mindex\u001b[0m\u001b[0;34m(\u001b[0m\u001b[0mgroupby_col_name\u001b[0m\u001b[0;34m)\u001b[0m\u001b[0;34m\u001b[0m\u001b[0;34m\u001b[0m\u001b[0m\n\u001b[0m\u001b[1;32m    334\u001b[0m     \u001b[0mgroupby_col\u001b[0m \u001b[0;34m=\u001b[0m \u001b[0mget_column\u001b[0m\u001b[0;34m(\u001b[0m\u001b[0mtable\u001b[0m\u001b[0;34m,\u001b[0m \u001b[0mheader\u001b[0m\u001b[0;34m,\u001b[0m \u001b[0mgroupby_col_name\u001b[0m\u001b[0;34m)\u001b[0m\u001b[0;34m\u001b[0m\u001b[0;34m\u001b[0m\u001b[0m\n\u001b[1;32m    335\u001b[0m     \u001b[0mgroup_names\u001b[0m \u001b[0;34m=\u001b[0m \u001b[0msorted\u001b[0m\u001b[0;34m(\u001b[0m\u001b[0mlist\u001b[0m\u001b[0;34m(\u001b[0m\u001b[0mset\u001b[0m\u001b[0;34m(\u001b[0m\u001b[0mgroupby_col\u001b[0m\u001b[0;34m)\u001b[0m\u001b[0;34m)\u001b[0m\u001b[0;34m)\u001b[0m\u001b[0;34m\u001b[0m\u001b[0;34m\u001b[0m\u001b[0m\n",
      "\u001b[0;31mValueError\u001b[0m: 'PLAYOFFS' is not in list"
     ]
    }
   ],
   "source": [
    "importlib.reload(mysklearn)\n",
    "\n",
    "dataset_titles = league_standing_pytable.column_names\n",
    "dataset = league_standing_pytable.data\n",
    "x_col_name = \"PTS\"\n",
    "groupby_col = \"PLAYOFFS\"\n",
    "\n",
    "group_names, group_subtables = myutils.group_by(dataset, dataset_titles, groupby_col)\n",
    "no_pytable = MyPyTable(dataset_titles, group_subtables[0])\n",
    "yes_pytable = MyPyTable(dataset_titles, group_subtables[1])\n",
    "\n",
    "yes_pts_col = yes_pytable.get_column(x_col_name)\n",
    "no_pts_col = no_pytable.get_column(x_col_name)\n",
    "\n",
    "# ------------------------------------------- \n",
    "#   for yes\n",
    "# -------------------------------------------\n",
    "cutoffs = myutils.compute_equal_width_cutoffs(yes_pts_col, 5)\n",
    "\n",
    "binned_values = []\n",
    "bin_labels = [i for i in range(1,6)]\n",
    "bin_names = [str(cutoffs[i]) + \"--\" + str(cutoffs[i + 1]) for i in range(len(cutoffs) - 1)]\n",
    "for i in range(len(yes_pts_col)):\n",
    "    j = 0\n",
    "\n",
    "    while yes_pts_col[i] > cutoffs[j]:\n",
    "        j += 1\n",
    "    binned_values.append(j)\n",
    "\n",
    "binned_frequencies = []\n",
    "for i in range(1, 6):\n",
    "    binned_frequencies.append(binned_values.count(i))\n",
    "\n",
    "plt.figure(figsize=(10,5))\n",
    "x_range = np.arange(len(bin_labels))\n",
    "y_range = np.arange(0, max(binned_frequencies) * 1.2, 50)\n",
    "plt.bar(x_range, binned_frequencies, align=\"center\")\n",
    "plt.xticks(x_range, bin_names, rotation=55)\n",
    "plt.yticks(y_range)\n",
    "plt.title(\"Distribution of Points for Eligible Teams\")\n",
    "plt.ylabel(\"Frequency of Points\")\n",
    "plt.xlabel(\"Number Of Points\")\n",
    "plt.grid(True)\n",
    "plt.show()\n",
    "\n",
    "\n",
    "# ------------------------------------------- \n",
    "#   for no\n",
    "# -------------------------------------------\n",
    "cutoffs = myutils.compute_equal_width_cutoffs(yes_pts_col, 5)\n",
    "\n",
    "binned_values = []\n",
    "bin_labels = [i for i in range(1,6)]\n",
    "bin_names = [str(cutoffs[i]) + \"--\" + str(cutoffs[i + 1]) for i in range(len(cutoffs) - 1)]\n",
    "for i in range(len(yes_pts_col)):\n",
    "    j = 0\n",
    "\n",
    "    while yes_pts_col[i] > cutoffs[j]:\n",
    "        j += 1\n",
    "    binned_values.append(j)\n",
    "\n",
    "binned_frequencies = []\n",
    "for i in range(1, 6):\n",
    "    binned_frequencies.append(binned_values.count(i))\n",
    "\n",
    "plt.figure(figsize=(10,5))\n",
    "x_range = np.arange(len(bin_labels))\n",
    "y_range = np.arange(0, max(binned_frequencies) * 1.2, 50)\n",
    "plt.bar(x_range, binned_frequencies, align=\"center\")\n",
    "plt.xticks(x_range, bin_names, rotation=55)\n",
    "plt.yticks(y_range)\n",
    "plt.title(\"Distribution of Points for Eligible Teams\")\n",
    "plt.ylabel(\"Frequency of Points\")\n",
    "plt.xlabel(\"Number Of Points\")\n",
    "plt.grid(True)\n",
    "plt.show()"
   ]
  },
  {
   "cell_type": "markdown",
   "metadata": {},
   "source": [
    "These plots would havde allowed us to drectly compare the the points of teams in playoffs and teams not in playoffs. The plots give us an accurate scale of how many points each group earned on average. Since the teams are seperated based upon playoff elignlity we could compare teams that made it in points to teams that did not and see if the points had a direct correlation with qualification."
   ]
  },
  {
   "cell_type": "markdown",
   "metadata": {},
   "source": [
    "### EDA 3 - How many teams made Playoffs"
   ]
  },
  {
   "cell_type": "code",
   "execution_count": null,
   "metadata": {
    "collapsed": false,
    "pycharm": {
     "name": "#%%\n"
    }
   },
   "outputs": [
    {
     "data": {
      "image/png": "[encoded data removed]",
      "text/plain": [
       "<Figure size 720x360 with 1 Axes>"
      ]
     },
     "metadata": {},
     "output_type": "display_data"
    },
    {
     "name": "stdout",
     "output_type": "stream",
     "text": [
      "The total number of teams is 46\n"
     ]
    }
   ],
   "source": [
    "import importlib\n",
    "import matplotlib.pyplot as plt\n",
    "import plot_utils as plt_utils\n",
    "import numpy as np\n",
    "\n",
    "import mysklearn.myutils\n",
    "importlib.reload(mysklearn.myutils)\n",
    "import mysklearn.myutils as myutils\n",
    "\n",
    "import mysklearn.mypytable\n",
    "importlib.reload(mysklearn.mypytable)\n",
    "from mysklearn.mypytable import MyPyTable \n",
    "league_standing_pytable = MyPyTable()\n",
    "league_standing_pytable.load_from_file(\"lib/nhl_leaguestandings.csv\")\n",
    "\n",
    "importlib.reload(mysklearn)\n",
    "column_names=league_standing_pytable.column_names\n",
    "table=league_standing_pytable.data\n",
    "plt.figure(figsize=(10,5))\n",
    " \n",
    "year_col=league_standing_pytable.get_column(\"SEASON\")\n",
    "year_table=[]\n",
    "year_index=column_names.index(\"SEASON\")\n",
    "team_index=column_names.index(\"TEAM\")\n",
    "playoff_index=column_names.index(\"PLAYOFFS\")\n",
    " \n",
    "for row in table:\n",
    "   if row[year_index]==2018:\n",
    "       year_table.append(row)\n",
    " \n",
    "teams=league_standing_pytable.get_column(\"TEAM\")\n",
    "team_names=[]\n",
    "for i in range(len(teams)):\n",
    "   if teams[i] in team_names:\n",
    "       continue\n",
    "   else:\n",
    "       team_names.append(teams[i])\n",
    " \n",
    "inP=[]\n",
    "for row in year_table:\n",
    "   if row[team_index] in inP:\n",
    "       continue\n",
    "   else:\n",
    "       if row[playoff_index] == \"Y\":\n",
    "           inP.append(row[team_index])\n",
    " \n",
    "noP=len(team_names)-len(inP)\n",
    "success=[len(inP), noP]\n",
    "label=[\"In Playofffs\", \"Not in Playoffs\"]\n",
    "total_teams=len(team_names)\n",
    "\n",
    "plt.pie(success,labels=label,autopct=\"%1.1F\")\n",
    "plt.show()\n",
    "print(\"The total number of teams is\", total_teams)"
   ]
  },
  {
   "cell_type": "markdown",
   "metadata": {},
   "source": [
    "This is an extraordinarily simple pie chart that illustrates if a team made it into the playoffs or not in the most recent year. It is incredibly helpful to the project since most of the EDA off of playoffs eligibility. Only a certain number of teams can make it into the playoffs and knowing the percentage gives us a general idea of our results, which was the goal of this plot’s creation."
   ]
  },
  {
   "cell_type": "markdown",
   "metadata": {
    "collapsed": false,
    "pycharm": {
     "name": "#%% md\n"
    }
   },
   "source": [
    "### EDA 4 Goals Scored vs Goals Against vs Playoff Eligibility"
   ]
  },
  {
   "cell_type": "code",
   "execution_count": null,
   "metadata": {
    "collapsed": false,
    "pycharm": {
     "name": "#%%\n"
    }
   },
   "outputs": [
    {
     "data": {
      "image/png": "[encoded data removed]",
      "text/plain": [
       "<Figure size 720x360 with 2 Axes>"
      ]
     },
     "metadata": {
      "needs_background": "light"
     },
     "output_type": "display_data"
    }
   ],
   "source": [
    "importlib.reload(mysklearn)\n",
    "\n",
    "dataset_titles = league_standing_pytable.column_names\n",
    "dataset = league_standing_pytable.data\n",
    "x_col_name = \"GF\"\n",
    "y_col_name = \"GA\"\n",
    "groupby_col = \"PLAYOFFS\"\n",
    "\n",
    "wins_col = league_standing_pytable.get_column(x_col_name)\n",
    "losses_col = league_standing_pytable.get_column(y_col_name)\n",
    "class_col = league_standing_pytable.get_column(groupby_col)\n",
    "\n",
    "unique_class_vals, parallel_numbered_vals = myutils.unique_vals(class_col)\n",
    "\n",
    "x_index = dataset_titles.index(x_col_name)\n",
    "y_index = dataset_titles.index(y_col_name)\n",
    "\n",
    "cleaned_x, cleaned_y = myutils.find_all_non_NA_matches(wins_col, losses_col)\n",
    "m, b = myutils.compute_slope_intercept(cleaned_x, cleaned_y)\n",
    "\n",
    "corre_coeff = myutils.calculate_correlation_coefficient(cleaned_x, cleaned_y)\n",
    "covarience = myutils.calculate_covarience(cleaned_x, cleaned_y)\n",
    "\n",
    "plt.figure(figsize=(10,5))\n",
    "plt.title(\"Goals scored vs Goals Against with Playoff Eligibility\")\n",
    "plt.ylabel(\"Goals Against\")\n",
    "plt.xlabel(\"Goals For\")\n",
    "plt.scatter(cleaned_x, cleaned_y, c = parallel_numbered_vals, marker=\"o\", cmap=\"bwr\")\n",
    "plt.plot([min(cleaned_x), max(cleaned_x)], [m * min(cleaned_x) + b, m * max(cleaned_x) + b], c=\"g\")\n",
    "cbar = plt.colorbar()\n",
    "cbar.set_ticks([i for i in range(len(unique_class_vals))])\n",
    "cbar.set_ticklabels(unique_class_vals)\n",
    "plt.grid(True)\n",
    "plt.show()"
   ]
  },
  {
   "cell_type": "markdown",
   "metadata": {},
   "source": [
    "This plot checks how many a team scored or had scored on them and then checks for if they won. This plot is also interesting. Similar to the previous plot a higher amount of goals scored does not always equate to getting into playoffs. A team can score a large amount of goals, but not win a game, or can score a large amount of goals in one game and little the next game, so this is not a very useful comparison."
   ]
  },
  {
   "cell_type": "markdown",
   "metadata": {
    "collapsed": false,
    "pycharm": {
     "name": "#%% md\n"
    }
   },
   "source": [
    "### EDA 5 Made it to finals VS Won finals"
   ]
  },
  {
   "cell_type": "code",
   "execution_count": null,
   "metadata": {
    "collapsed": false,
    "pycharm": {
     "name": "#%%\n"
    }
   },
   "outputs": [
    {
     "data": {
      "image/png": "[encoded data removed]",
      "text/plain": [
       "<Figure size 720x360 with 1 Axes>"
      ]
     },
     "metadata": {},
     "output_type": "display_data"
    },
    {
     "name": "stdout",
     "output_type": "stream",
     "text": [
      "The total teams that made it to finals are 30\n"
     ]
    }
   ],
   "source": [
    "import importlib\n",
    "import matplotlib.pyplot as plt\n",
    "import plot_utils as plt_utils\n",
    "import numpy as np\n",
    "\n",
    "import mysklearn.myutils\n",
    "importlib.reload(mysklearn.myutils)\n",
    "import mysklearn.myutils as myutils\n",
    "\n",
    "import mysklearn.mypytable\n",
    "importlib.reload(mysklearn.mypytable)\n",
    "from mysklearn.mypytable import MyPyTable \n",
    "league_standing_pytable = MyPyTable()\n",
    "league_standing_pytable.load_from_file(\"lib/nhl_leaguestandings.csv\")\n",
    "\n",
    "importlib.reload(mysklearn)\n",
    "column_names=league_standing_pytable.column_names\n",
    "table=league_standing_pytable.data\n",
    "plt.figure(figsize=(10,5))\n",
    "\n",
    "team_index=column_names.index(\"TEAM\")\n",
    "finish_index=column_names.index(\"FINISH\")\n",
    "\n",
    "teams=league_standing_pytable.get_column(\"TEAM\")\n",
    "team_names=[]\n",
    "for i in range(len(teams)):\n",
    "   if teams[i] in team_names:\n",
    "       continue\n",
    "   else:\n",
    "       team_names.append(teams[i])\n",
    "\n",
    "inF=[]\n",
    "\n",
    "for row in table:\n",
    "   if row[team_index] in inF:\n",
    "       continue\n",
    "   else:\n",
    "       if row[finish_index] >3:\n",
    "           inF.append(row[team_index])\n",
    "\n",
    "wF=[]\n",
    "for row in table:\n",
    "   if row[team_index] in wF:\n",
    "       continue\n",
    "   else:\n",
    "       if row[finish_index] ==5 :\n",
    "           wF.append(row[team_index])\n",
    "\n",
    "dif= len(inF)-len(wF)\n",
    "success=[len(wF), dif]\n",
    "label=[\"Won Finals\", \"Made it to finals\"]\n",
    "\n",
    "plt.pie(success,labels=label,autopct=\"%1.1F\")\n",
    "plt.show()\n",
    "print(\"The total teams that made it to finals are\", len(inF))"
   ]
  },
  {
   "cell_type": "markdown",
   "metadata": {},
   "source": [
    "This is another simple pie plot that checks something important to our group, the amount of teams over the years that won, and utlizes our new atribue FINISH. This plot checks all the different teams that made it to finals and seperates them into won once or lost. This graph is more a confirmation then anything else and it does make sense. the msot interesting portion of this graph is that of the 46 teams, 30 have made it to finals in the past. Now while the playoffs have been going for years and the records start in 1940, having this many teams make it to finals is astounding."
   ]
  },
  {
   "cell_type": "markdown",
   "metadata": {},
   "source": [
    "## Classification Results"
   ]
  },
  {
   "cell_type": "markdown",
   "metadata": {},
   "source": [
    "### kNN"
   ]
  },
  {
   "cell_type": "markdown",
   "metadata": {},
   "source": [
    "### Decision Tree"
   ]
  },
  {
   "cell_type": "markdown",
   "metadata": {},
   "source": [
    "### Random Forest"
   ]
  },
  {
   "cell_type": "markdown",
   "metadata": {},
   "source": [
    "## Conclusion\n",
    "The dataset we utlized was the nhl records. Our goal with this project was to create classifiers that are accurate in predicting a teams overall poistion in the playoffs. The dataset was missing a slight amount of information and an attribute for playoffs position however, this was corrected by our team. The classifiers we utilized were kNN, Decision Tree, and Random Forest. Overall our classifiers performed decently, though not as well as we hoped. One of the challenges for the classification that we had was that our original decision tree was splitting on each percentage in the table individually. While this was not necessarily an issue it resulted in our decision tree splitting an enormous amount of times on a few instances and did not fit with the rest of our project, so it was changed to groupings of percentages.\n",
    "\n",
    "# Need a way to imporve performance"
   ]
  }
 ],
 "metadata": {
  "interpreter": {
   "hash": "d4d1e4263499bec80672ea0156c357c1ee493ec2b1c70f0acce89fc37c4a6abe"
  },
  "kernelspec": {
   "display_name": "Python 3.9.7 ('base')",
   "language": "python",
   "name": "python3"
  },
  "language_info": {
   "codemirror_mode": {
    "name": "ipython",
    "version": 3
   },
   "file_extension": ".py",
   "mimetype": "text/x-python",
   "name": "python",
   "nbconvert_exporter": "python",
   "pygments_lexer": "ipython3",
   "version": "3.9.7"
  },
  "orig_nbformat": 4
 },
 "nbformat": 4,
 "nbformat_minor": 2
}
